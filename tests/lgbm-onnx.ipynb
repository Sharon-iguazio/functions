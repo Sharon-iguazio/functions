{
 "cells": [
  {
   "cell_type": "markdown",
   "metadata": {},
   "source": [
    "# Converting a LightGBM model to ONNX\n",
    "\n",
    "In this notebook we create a resuable pipeline component that will convert LightGBM models to ONNX format for use in a production-inference environment.<br>\n",
    "\n",
    "We'll be using a pickled model from the **[LightGBM demo](https://github.com/mlrun/demos/blob/master/lightgbm/README.md)**. We would also like to append this to an existing pipeline, either directly in the pipeline building stage, or preferrably, as an independent function/service that will trigger an lgbm model conversion."
   ]
  },
  {
   "cell_type": "markdown",
   "metadata": {},
   "source": [
    "    !pip uninstall -y mlrun\n",
    "    !pip install -U -q mlrun\n",
    "    !pip install -U -q pandas numpy\n",
    "    !pip install -U -q lightgbm\n",
    "    !pip install -U -q joblib cloudpickle dill\n",
    "    !pip install -U -q scikit-learn\n",
    "    !pip install -U -q nuclio-jupyter"
   ]
  },
  {
   "cell_type": "markdown",
   "metadata": {},
   "source": [
    "    import os\n",
    "    os.environ['ONNX_ML'] = '1'"
   ]
  },
  {
   "cell_type": "markdown",
   "metadata": {},
   "source": [
    "    !pip install -U -q onnxruntime\n",
    "    !pip install -U -q git+https://github.com/microsoft/onnxconverter-common\n",
    "    !pip install -U -q git+https://github.com/onnx/onnxmltools\n",
    "    !conda install -y pydot python-graphviz"
   ]
  },
  {
   "cell_type": "code",
   "execution_count": 2,
   "metadata": {},
   "outputs": [],
   "source": [
    "import mlrun\n",
    "mlrun.mlconf.dbpath = 'http://mlrun-api:8080'"
   ]
  },
  {
   "cell_type": "code",
   "execution_count": 3,
   "metadata": {},
   "outputs": [],
   "source": [
    "import os\n",
    "import numpy as np\n",
    "from sklearn.pipeline import Pipeline\n",
    "from sklearn.preprocessing import StandardScaler\n",
    "from lightgbm import LGBMClassifier\n",
    "\n",
    "from skl2onnx import (convert_sklearn, \n",
    "                      update_registered_converter)\n",
    "\n",
    "from skl2onnx.common.shape_calculator import calculate_linear_classifier_output_shapes  # noqa\n",
    "from onnxmltools.convert.lightgbm.operator_converters.LightGbm import convert_lightgbm  # noqa\n",
    "from skl2onnx.common.data_types import FloatTensorType"
   ]
  },
  {
   "cell_type": "code",
   "execution_count": 4,
   "metadata": {},
   "outputs": [],
   "source": [
    "update_registered_converter(LGBMClassifier, 'LightGbmLGBMClassifier',\n",
    "                            calculate_linear_classifier_output_shapes,\n",
    "                            convert_lightgbm)"
   ]
  },
  {
   "cell_type": "code",
   "execution_count": 5,
   "metadata": {},
   "outputs": [],
   "source": [
    "# todo: test lightgb, with pickle/dill...\n",
    "from joblib import load, dump"
   ]
  },
  {
   "cell_type": "code",
   "execution_count": null,
   "metadata": {},
   "outputs": [],
   "source": [
    "# load lightgbm demo model"
   ]
  },
  {
   "cell_type": "code",
   "execution_count": 6,
   "metadata": {},
   "outputs": [],
   "source": [
    "clf = load(open('/User/mlrun/lightgbm/lightgbm.model.pkl', 'rb'))"
   ]
  },
  {
   "cell_type": "code",
   "execution_count": 8,
   "metadata": {},
   "outputs": [
    {
     "data": {
      "text/plain": [
       "lightgbm.sklearn.LGBMClassifier"
      ]
     },
     "execution_count": 8,
     "metadata": {},
     "output_type": "execute_result"
    }
   ],
   "source": [
    "type(clf)"
   ]
  },
  {
   "cell_type": "code",
   "execution_count": 9,
   "metadata": {},
   "outputs": [
    {
     "name": "stderr",
     "output_type": "stream",
     "text": [
      "The maximum opset needed by this model is only 1.\n",
      "The maximum opset needed by this model is only 9.\n"
     ]
    }
   ],
   "source": [
    "model = onnxmltools.convert_lightgbm(clf.booster_, \n",
    "                                     name='LightGBM', \n",
    "                                     initial_types=[('input', FloatTensorType([1, 28]))])\n",
    "onnxmltools.utils.save_model(model, 'LightGBM.onnx')"
   ]
  },
  {
   "cell_type": "code",
   "execution_count": null,
   "metadata": {},
   "outputs": [],
   "source": [
    "model_onnx = convert_sklearn(clf, 'lightgbm_model',\n",
    "                             [('input', FloatTensorType([None, 28]))])"
   ]
  },
  {
   "cell_type": "code",
   "execution_count": null,
   "metadata": {},
   "outputs": [],
   "source": [
    "# And save.\n",
    "with open(\"lightgbm_model.onnx\", \"wb\") as f:\n",
    "    f.write(model_onnx.SerializeToString())"
   ]
  },
  {
   "cell_type": "code",
   "execution_count": null,
   "metadata": {},
   "outputs": [],
   "source": []
  }
 ],
 "metadata": {
  "kernelspec": {
   "display_name": "Python 3",
   "language": "python",
   "name": "python3"
  },
  "language_info": {
   "codemirror_mode": {
    "name": "ipython",
    "version": 3
   },
   "file_extension": ".py",
   "mimetype": "text/x-python",
   "name": "python",
   "nbconvert_exporter": "python",
   "pygments_lexer": "ipython3",
   "version": "3.6.8"
  }
 },
 "nbformat": 4,
 "nbformat_minor": 4
}
