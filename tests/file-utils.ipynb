{
 "cells": [
  {
   "cell_type": "code",
   "execution_count": null,
   "metadata": {},
   "outputs": [],
   "source": [
    "import mlrun\n",
    "mlrun.mlconf.dbpath = 'http://mlrun-api:8080'"
   ]
  },
  {
   "cell_type": "markdown",
   "metadata": {},
   "source": [
    "# archive to folder"
   ]
  },
  {
   "cell_type": "code",
   "execution_count": null,
   "metadata": {},
   "outputs": [],
   "source": [
    "import urllib3\n",
    "urllib3.disable_warnings()"
   ]
  },
  {
   "cell_type": "code",
   "execution_count": null,
   "metadata": {},
   "outputs": [],
   "source": [
    "# load function from Github\n",
    "xfn = mlrun.import_function('https://raw.githubusercontent.com/yjb-ds/functions/master/fileutils/open_archive/function.yaml')\n",
    "\n",
    "# configute it: mount on iguazio fabric, set as interactive (return stdout)\n",
    "xfn.apply(mlrun.mount_v3io())\n",
    "xfn.interactive = True\n",
    "\n",
    "# create and run the task\n",
    "\n",
    "images_path = '/User/mlrun/functions/images'\n",
    "\n",
    "open_archive_task = mlrun.NewTask(\n",
    "    'download',\n",
    "    handler='open_archive', \n",
    "    params={'target_path': images_path,\n",
    "            'key'        : 'contents'},\n",
    "    inputs={'archive_url': 'http://iguazio-sample-data.s3.amazonaws.com/catsndogs.zip'}\n",
    ")\n",
    "\n",
    "# run\n",
    "run = xfn.run(open_archive_task)"
   ]
  },
  {
   "cell_type": "markdown",
   "metadata": {},
   "source": [
    "_________"
   ]
  },
  {
   "cell_type": "markdown",
   "metadata": {},
   "source": [
    "# archive to parquet"
   ]
  },
  {
   "cell_type": "markdown",
   "metadata": {},
   "source": [
    "#### load and configure function"
   ]
  },
  {
   "cell_type": "code",
   "execution_count": null,
   "metadata": {},
   "outputs": [],
   "source": [
    "# load function from Github\n",
    "xfn = mlrun.import_function('https://raw.githubusercontent.com/yjb-ds/functions/master/fileutils/arc_to_parquet/arc_to_parquet.yaml')\n",
    "\n",
    "# configure function: mount on the Iguazio data fabric, set as interactive (return stdout)\n",
    "xfn.apply(mlrun.mount_v3io())\n",
    "xfn.interactive = True"
   ]
  },
  {
   "cell_type": "markdown",
   "metadata": {},
   "source": [
    "#### deploy / build"
   ]
  },
  {
   "cell_type": "markdown",
   "metadata": {},
   "source": [
    "The following triggers a build when run for the first time using specs found in the yaml file above.  Unless that file changes, this only needs to be run once, even after the notebook has been restarted:"
   ]
  },
  {
   "cell_type": "code",
   "execution_count": null,
   "metadata": {},
   "outputs": [],
   "source": [
    "xfn.deploy()"
   ]
  },
  {
   "cell_type": "markdown",
   "metadata": {},
   "source": [
    "Also note that the build time can be reduced if you specifiy a pre-built image with all required packages."
   ]
  },
  {
   "cell_type": "code",
   "execution_count": null,
   "metadata": {},
   "outputs": [],
   "source": [
    "# useful constants\n",
    "target_path = '/User/mlrun/functions/parquet'\n",
    "archive = 'https://fpsignals-public.s3.amazonaws.com/x_test_50.csv.gz'\n",
    "parquet_file = 'x_test_50.parquet' # the file extension is not necessary\n",
    "parquet_file_path = target_path + \"/\" + parquet_file\n",
    "artifact_key = 'raw_data'"
   ]
  },
  {
   "cell_type": "code",
   "execution_count": null,
   "metadata": {},
   "outputs": [],
   "source": [
    "# create and run the task\n",
    "arc_to_parq_task = mlrun.NewTask(\n",
    "    'arc2parq', \n",
    "    handler='arc_to_parquet',  # a string since we are calling this 'remotely', outside this notebook\n",
    "    params={\n",
    "        'target_path': target_path,\n",
    "        'name'       : parquet_file, \n",
    "        'key'        : artifact_key,\n",
    "        'archive_url': archive},\n",
    "    outputs=[artifact_key])\n",
    "\n",
    "# run\n",
    "run = xfn.run(arc_to_parq_task)"
   ]
  },
  {
   "cell_type": "markdown",
   "metadata": {},
   "source": [
    "___"
   ]
  },
  {
   "cell_type": "markdown",
   "metadata": {},
   "source": [
    "### tests"
   ]
  },
  {
   "cell_type": "code",
   "execution_count": null,
   "metadata": {},
   "outputs": [],
   "source": [
    "import os\n",
    "import numpy as np\n",
    "import pandas as pd"
   ]
  },
  {
   "cell_type": "code",
   "execution_count": null,
   "metadata": {},
   "outputs": [],
   "source": [
    "# add more context tests\n",
    "# convert these to real tests"
   ]
  },
  {
   "cell_type": "code",
   "execution_count": null,
   "metadata": {},
   "outputs": [],
   "source": [
    "assert artifact_key in run.outputs.keys(), f\"mlrun.functions: key {artifact_key} not fond in outputs\"\n",
    "assert os.path.isfile(parquet_file_path),  f\"mlrun.functions: artifact source not found at {parquet_file_path}\""
   ]
  },
  {
   "cell_type": "code",
   "execution_count": null,
   "metadata": {},
   "outputs": [],
   "source": [
    "original = pd.read_csv(archive)\n",
    "copied   = pd.read_parquet(parquet_file_path, engine=\"pyarrow\")\n",
    "assert np.array_equal(original, copied),   \"mlrun.functions: original and copied data not equal\""
   ]
  },
  {
   "cell_type": "markdown",
   "metadata": {},
   "source": [
    "### cleanup"
   ]
  },
  {
   "cell_type": "code",
   "execution_count": null,
   "metadata": {},
   "outputs": [],
   "source": [
    "os.remove(parquet_file_path)"
   ]
  }
 ],
 "metadata": {
  "kernelspec": {
   "display_name": "Python 3",
   "language": "python",
   "name": "python3"
  },
  "language_info": {
   "codemirror_mode": {
    "name": "ipython",
    "version": 3
   },
   "file_extension": ".py",
   "mimetype": "text/x-python",
   "name": "python",
   "nbconvert_exporter": "python",
   "pygments_lexer": "ipython3",
   "version": "3.6.8"
  }
 },
 "nbformat": 4,
 "nbformat_minor": 4
}
